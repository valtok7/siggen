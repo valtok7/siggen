{
 "cells": [
  {
   "cell_type": "code",
   "execution_count": null,
   "metadata": {},
   "outputs": [],
   "source": [
    "%matplotlib inline\n",
    "import matplotlib.pyplot as plt\n",
    "import numpy as np\n",
    "x = np.linspace(0, 10, 100)\n",
    "y = np.sin(x)\n",
    "plt.plot(x, y)"
   ]
  },
  {
   "cell_type": "code",
   "execution_count": 1,
   "metadata": {},
   "outputs": [
    {
     "ename": "ModuleNotFoundError",
     "evalue": "No module named 'tkinter'",
     "output_type": "error",
     "traceback": [
      "\u001b[0;31m---------------------------------------------------------------------------\u001b[0m",
      "\u001b[0;31mModuleNotFoundError\u001b[0m                       Traceback (most recent call last)",
      "\u001b[1;32m/home/ito/work/siggen/main.ipynb Cell 2'\u001b[0m in \u001b[0;36m<cell line: 1>\u001b[0;34m()\u001b[0m\n\u001b[0;32m----> <a href='vscode-notebook-cell://wsl%2Bubuntu/home/ito/work/siggen/main.ipynb#ch0000001vscode-remote?line=0'>1</a>\u001b[0m \u001b[39mimport\u001b[39;00m \u001b[39mPySimpleGUI\u001b[39;00m \u001b[39mas\u001b[39;00m \u001b[39msg\u001b[39;00m\n\u001b[1;32m      <a href='vscode-notebook-cell://wsl%2Bubuntu/home/ito/work/siggen/main.ipynb#ch0000001vscode-remote?line=2'>3</a>\u001b[0m sg\u001b[39m.\u001b[39mtheme(\u001b[39m'\u001b[39m\u001b[39mDarkAmber\u001b[39m\u001b[39m'\u001b[39m)   \u001b[39m# デザインテーマの設定\u001b[39;00m\n\u001b[1;32m      <a href='vscode-notebook-cell://wsl%2Bubuntu/home/ito/work/siggen/main.ipynb#ch0000001vscode-remote?line=4'>5</a>\u001b[0m \u001b[39m# ウィンドウに配置するコンポーネント\u001b[39;00m\n",
      "File \u001b[0;32m~/.local/lib/python3.8/site-packages/PySimpleGUI/__init__.py:2\u001b[0m, in \u001b[0;36m<module>\u001b[0;34m\u001b[0m\n\u001b[1;32m      <a href='file:///home/ito/.local/lib/python3.8/site-packages/PySimpleGUI/__init__.py?line=0'>1</a>\u001b[0m name \u001b[39m=\u001b[39m \u001b[39m\"\u001b[39m\u001b[39mPySimpleGUI\u001b[39m\u001b[39m\"\u001b[39m\n\u001b[0;32m----> <a href='file:///home/ito/.local/lib/python3.8/site-packages/PySimpleGUI/__init__.py?line=1'>2</a>\u001b[0m \u001b[39mfrom\u001b[39;00m \u001b[39m.\u001b[39;00m\u001b[39mPySimpleGUI\u001b[39;00m \u001b[39mimport\u001b[39;00m \u001b[39m*\u001b[39m\n\u001b[1;32m      <a href='file:///home/ito/.local/lib/python3.8/site-packages/PySimpleGUI/__init__.py?line=2'>3</a>\u001b[0m \u001b[39mfrom\u001b[39;00m \u001b[39m.\u001b[39;00m\u001b[39mPySimpleGUI\u001b[39;00m \u001b[39mimport\u001b[39;00m __version__\n",
      "File \u001b[0;32m~/.local/lib/python3.8/site-packages/PySimpleGUI/PySimpleGUI.py:130\u001b[0m, in \u001b[0;36m<module>\u001b[0;34m\u001b[0m\n\u001b[1;32m     <a href='file:///home/ito/.local/lib/python3.8/site-packages/PySimpleGUI/PySimpleGUI.py?line=32'>33</a>\u001b[0m \u001b[39m\"\"\"\u001b[39;00m\n\u001b[1;32m     <a href='file:///home/ito/.local/lib/python3.8/site-packages/PySimpleGUI/PySimpleGUI.py?line=33'>34</a>\u001b[0m \u001b[39m    Copyright 2018, 2019, 2020, 2021, 2022 PySimpleGUI(tm)\u001b[39;00m\n\u001b[1;32m     <a href='file:///home/ito/.local/lib/python3.8/site-packages/PySimpleGUI/PySimpleGUI.py?line=34'>35</a>\u001b[0m \n\u001b[0;32m   (...)\u001b[0m\n\u001b[1;32m    <a href='file:///home/ito/.local/lib/python3.8/site-packages/PySimpleGUI/PySimpleGUI.py?line=125'>126</a>\u001b[0m \u001b[39m    \"Thank you\" has fueled this project. I'm incredibly grateful to have users that are in turn grateful. It's a feedback loop of gratitude. What a fantastic thing!\u001b[39;00m\n\u001b[1;32m    <a href='file:///home/ito/.local/lib/python3.8/site-packages/PySimpleGUI/PySimpleGUI.py?line=126'>127</a>\u001b[0m \u001b[39m\"\"\"\u001b[39;00m\n\u001b[1;32m    <a href='file:///home/ito/.local/lib/python3.8/site-packages/PySimpleGUI/PySimpleGUI.py?line=128'>129</a>\u001b[0m \u001b[39m# all of the tkinter involved imports\u001b[39;00m\n\u001b[0;32m--> <a href='file:///home/ito/.local/lib/python3.8/site-packages/PySimpleGUI/PySimpleGUI.py?line=129'>130</a>\u001b[0m \u001b[39mimport\u001b[39;00m \u001b[39mtkinter\u001b[39;00m \u001b[39mas\u001b[39;00m \u001b[39mtk\u001b[39;00m\n\u001b[1;32m    <a href='file:///home/ito/.local/lib/python3.8/site-packages/PySimpleGUI/PySimpleGUI.py?line=130'>131</a>\u001b[0m \u001b[39mfrom\u001b[39;00m \u001b[39mtkinter\u001b[39;00m \u001b[39mimport\u001b[39;00m filedialog\n\u001b[1;32m    <a href='file:///home/ito/.local/lib/python3.8/site-packages/PySimpleGUI/PySimpleGUI.py?line=131'>132</a>\u001b[0m \u001b[39mfrom\u001b[39;00m \u001b[39mtkinter\u001b[39;00m\u001b[39m.\u001b[39;00m\u001b[39mcolorchooser\u001b[39;00m \u001b[39mimport\u001b[39;00m askcolor\n",
      "\u001b[0;31mModuleNotFoundError\u001b[0m: No module named 'tkinter'"
     ]
    }
   ],
   "source": [
    "import PySimpleGUI as sg\n",
    "\n",
    "sg.theme('DarkAmber')   # デザインテーマの設定\n",
    "\n",
    "# ウィンドウに配置するコンポーネント\n",
    "layout = [  [sg.Text('ここは1行目')],\n",
    "            [sg.Text('ここは2行目：適当に文字を入力してください'), sg.InputText()],\n",
    "            [sg.Button('OK'), sg.Button('キャンセル')] ]\n",
    "\n",
    "# ウィンドウの生成\n",
    "window = sg.Window('サンプルプログラム', layout)\n",
    "\n",
    "# イベントループ\n",
    "while True:\n",
    "    event, values = window.read()\n",
    "    if event == sg.WIN_CLOSED or event == 'キャンセル':\n",
    "        break\n",
    "    elif event == 'OK':\n",
    "        print('あなたが入力した値： ', values[0])\n",
    "\n",
    "window.close()"
   ]
  }
 ],
 "metadata": {
  "interpreter": {
   "hash": "916dbcbb3f70747c44a77c7bcd40155683ae19c65e1c03b4aa3499c5328201f1"
  },
  "kernelspec": {
   "display_name": "Python 3.8.10 64-bit",
   "language": "python",
   "name": "python3"
  },
  "language_info": {
   "codemirror_mode": {
    "name": "ipython",
    "version": 3
   },
   "file_extension": ".py",
   "mimetype": "text/x-python",
   "name": "python",
   "nbconvert_exporter": "python",
   "pygments_lexer": "ipython3",
   "version": "3.8.10"
  },
  "orig_nbformat": 4
 },
 "nbformat": 4,
 "nbformat_minor": 2
}
